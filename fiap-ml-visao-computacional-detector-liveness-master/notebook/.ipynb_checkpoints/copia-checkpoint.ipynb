{
 "cells": [
  {
   "cell_type": "markdown",
   "metadata": {
    "id": "fCG69Do1qfJ1"
   },
   "source": [
    "# MBA FIAP Inteligência Artificial & Machine Learning\n",
    "\n",
    "## Visão Computacional: Análise de Imagens Médicas\n",
    "\n",
    "> Atenção: este notebook foi desenhado para funcionar no **Google Collab**.\n",
    "\n",
    "\n",
    "## 1. Introdução\n",
    "\n",
    "Uma determinada fintech focada em consumidores finais pessoa física constataou um grande número de fraudes em transações bancárias.\n",
    "\n",
    "O setor de fraudes apontou que existem clientes que se queixaram de não contratar serviços específicos, como o crédito pessoal, e após isso transferir para outras contas desconhecidas.\n",
    "\n",
    "Após análises pelas equipes de segurança, os protocolos de utilização da senha foram realizados em conformidade, ou seja, cada cliente autenticou com sua própria senha de maneira regular.\n",
    "\n",
    "Em função disso, o banco precisa arcar com reembolsos e medidas de contenção para evitar processos judiciais, pois os clientes alegam terem sido invadidos por hackers ou algo parecido.\n",
    "\n",
    "Uma das formas de solucionar ou minimizar este problema é com a utilização de outras formas de autenticação, sobretudo em operações críticas, como a obtenção de crédito pessoal.\n",
    "\n",
    "Desta forma podemos implementar uma verificação de identidade com prova de vida (liveness), que utilize uma verificação e identificação facial.\n",
    "\n",
    "Caso o cliente não seja autenticado, ele será atendido por uma esteira dedicada e as evidências da não identificação serão encaminhadas para a área de IA para validação dos parâmetros e limiares para aperfeiçoamento do modelo.\n",
    "\n",
    "Será necessário construir:\n",
    "\n",
    "* Detector de faces\n",
    "* Identificação de faces (podendo ser um comparador entre um rosto de documento e outra da prova de vida)\n",
    "* Detecção de vivacidade (liveness) para evitar que um fraudador utilize uma foto estática.\n",
    "\n",
    "\n",
    ">Formas alternativas de prover a identificação e prova de vivacidade, além destas que foram solicitadas poderão ser submetidas.\n",
    "\n",
    "\n",
    "<p align=\"center\">\n",
    "    <img src=\"https://github.com/michelpf/fiap-ml-visao-computacional-detector-liveness/blob/master/notebook/imagens/liveness.jpg?raw=1\">\n",
    "</p>\n",
    "\n",
    "Imagem retirada do [Grunge](https://www.grunge.com/192826/company-testing-robocop-facial-recognition-software-with-us-police/).\n",
    "\n",
    "## 2. Instruções\n",
    "\n",
    "Este projeto final tem como objetivo explorar os conhecimentos adquiridos nas aulas práticas.\n",
    "\n",
    "Iremos constuir uma forma de validar se uma determinada imagem foi ou não adulterada e se trata de uma produção fraudade.\n",
    "\n",
    "Existem diversas formas de validar a vivacidade, e neste sentido conto com a criatividade de vocês dado que já dominam encontrar uma face numa imagem, aplicar marcos faciais e até mesmo construir uma rede neural convulacional.\n",
    "\n",
    "A abordagem mais simples é pela construção de uma rede neural com imagens de fotos de rostos de outras fotos e fotos de rostos sem modificações. Tal classificador deverá classificar se dada imagem possui vivacidade ou não com uma pontuação de probabilidade.\n",
    "\n",
    "Referências que abordam o tema para servir de inspiração:\n",
    "\n",
    "1. [PyImageSearch](https://pyimagesearch.com/2019/03/11/liveness-detection-with-opencv/), Liveness detection with OpenCV;\n",
    "2. [Kickertech](https://kickertech.com/face-liveness-detection-via-opencv-and-tensorflow/), Liveness detection via OpenCV and Tensorflow.\n",
    "3. [Towards Data Science](https://towardsdatascience.com/real-time-face-liveness-detection-with-python-keras-and-opencv-c35dc70dafd3?gi=24f8e1b740f9), Real-time face liveness detection with Python, Keras and OpenCV.\n",
    "\n",
    "Este projeto poderá ser feita por grupos de até 4 pessoas.\n",
    "Caso este projeto seja substitutivo, deverá ser realizado por apenas uma pessoa.\n",
    "\n",
    "| Nome dos Integrantes     | RM            | Turma |\n",
    "| :----------------------- | :------------- | :-----: |\n",
    "| Gabriel bonavigo Dacal   | RM RM347831      | 3DTSR |\n"
   ]
  },
  {
   "cell_type": "markdown",
   "metadata": {
    "id": "EcPyQ4jFqfJ5"
   },
   "source": [
    "## 3. Abordagem e organização da solução do problema (2 pontos)\n",
    "\n",
    "Como o grupo pretende deteccar a prova de vivacidade de uma determinada imagem? Quais os passos e os building blocks deste processo?"
   ]
  },
  {
   "cell_type": "markdown",
   "metadata": {
    "id": "gB_Sb2AkqfJ6"
   },
   "source": [
    "**Resposta**:\n",
    "\n",
    "# 3) O objetivo será virificar se  a foto enviada para comprovar identidade é verdadeira.\n",
    "\n",
    "# Os passos a seguir:\n",
    "\n",
    "##3.1) Coleta de dados.\n",
    "#### Será utilizado dois videos um com uma imagem falsa e outro com a imagem real e cada frame será uma amostra para o cojunto de dados.\n",
    "## 3.2) Separar a base.\n",
    "####Entre base e treinamento.\n",
    "\n",
    "##3.3) Tratamento de dados.\n",
    "#### Pré-processamento das imagens, incluindo redimensionamento, normalização e outras transformações necessárias para alimentar a rede neural.\n",
    "\n",
    "## 3.4) Construção da rede Neural.\n",
    "#### Escolher qual arquitetura se enquadra melhor ao porblmea.\n",
    "\n",
    "## 3.5) Treinar o Modelo\n",
    "#### Escolher os melhores hiper parâmetros para a rede.\n",
    "\n",
    "## 3.6) Comparar os resultados com a base Teste.\n",
    "#### Usando metricas como  ROC_AUC, precisão, recall, F1-score e matriz de confusão.\n",
    "\n",
    "## 3.7) Usar um video de teste final, gravando o video que seria uma amostra verdadeira sendo reproduzido em uma tela, para realmente validar o problema."
   ]
  },
  {
   "cell_type": "markdown",
   "metadata": {
    "id": "j_hFq155qfJ6"
   },
   "source": [
    "## 4 Desenvolvimento da solução (5,5 pontos)\n",
    "\n",
    "Detalhe o passo-a-passo do algoritmo de deteção de vivacidade.\n",
    "Se optar pela construção e treinamento de um modelo de redes neurais convulucionais, apresente a arquitetura, prepare os dados de treinamento, realize o treinamento."
   ]
  },
  {
   "cell_type": "code",
   "execution_count": 3,
   "metadata": {
    "id": "NWAcw3Oeb4xU"
   },
   "outputs": [],
   "source": [
    "# Bibliotecas\n",
    "from tensorflow.keras.models import Sequential\n",
    "from tensorflow.keras.layers import BatchNormalization\n",
    "from tensorflow.keras.layers import Conv2D\n",
    "from tensorflow.keras.layers import MaxPooling2D\n",
    "from tensorflow.keras.layers import Activation\n",
    "from tensorflow.keras.layers import Flatten\n",
    "from tensorflow.keras.layers import Dropout\n",
    "from tensorflow.keras.layers import Dense\n",
    "from tensorflow.keras import backend as K\n",
    "from sklearn.preprocessing import LabelEncoder\n",
    "from sklearn.model_selection import train_test_split\n",
    "from sklearn.metrics import classification_report\n",
    "from tensorflow.keras.preprocessing.image import ImageDataGenerator\n",
    "from tensorflow.keras.optimizers import Adam\n",
    "from tensorflow.keras.utils import to_categorical\n",
    "import tensorflow as tf\n",
    "import cv2\n"
   ]
  },
  {
   "cell_type": "markdown",
   "metadata": {
    "id": "MLdKTnXRqfJ6"
   },
   "source": [
    "### 4.1 Organização de dados para treinamento de modelo de liveness (2 pontos)"
   ]
  },
  {
   "cell_type": "code",
   "execution_count": 4,
   "metadata": {
    "id": "PcDTQffKqfJ7"
   },
   "outputs": [],
   "source": [
    "\n",
    "\n",
    "# Inicializa o detector de faces do OpenCV\n",
    "face_cascade = cv2.CascadeClassifier(cv2.data.haarcascades + 'haarcascade_frontalface_default.xml')\n"
   ]
  },
  {
   "cell_type": "code",
   "execution_count": 5,
   "metadata": {
    "id": "8CS7lifx_dq3"
   },
   "outputs": [],
   "source": [
    "# Carregamento da Base verdadeira, adicionando ao treinamento apenas as imagens que o openCV identificou como tendo rostos\n",
    "\n",
    "# Caminho para o vídeo\n",
    "video_path = 'imagens\\True Editado.mp4'\n",
    "\n",
    "# Inicializa o objeto de captura de vídeo\n",
    "cap = cv2.VideoCapture(video_path)\n",
    "Frames_True=[] # Lsita de frames com rostos detectados\n",
    "while True:\n",
    "\n",
    "\n",
    "    # Lê um frame do vídeo\n",
    "    ret, frame = cap.read()\n",
    "\n",
    "    # Verifica se a leitura do frame foi bem-sucedida\n",
    "    if not ret:\n",
    "        break\n",
    "\n",
    "    # Converte o frame para escala de cinza\n",
    "    gray = cv2.cvtColor(frame, cv2.COLOR_BGR2GRAY)\n",
    "\n",
    "    faces = face_cascade.detectMultiScale(cv2.cvtColor(frame, cv2.COLOR_BGR2GRAY), scaleFactor=1.1, minNeighbors=5, minSize=(30, 30))\n",
    "\n",
    "    # Padronização do frame\n",
    "    gray=(gray-gray.mean())/gray.mean()\n",
    "    gray=cv2.resize(gray, (32, 32))\n",
    "    if(len(faces)>0):\n",
    "      Frames_True.append(gray)\n",
    "\n",
    "# Caminho para o vídeo Falso\n",
    "video_path = 'imagens\\Fake Editado.mp4'\n",
    "\n",
    "# Inicializa o objeto de captura de vídeo\n",
    "cap = cv2.VideoCapture(video_path)\n",
    "Frames_False=[]\n",
    "while True:\n",
    "\n",
    "\n",
    "    # Lê um frame do vídeo\n",
    "    ret, frame = cap.read()\n",
    "    # Verifica se a leitura do frame foi bem-sucedida\n",
    "    if not ret:\n",
    "        break\n",
    "\n",
    "    # Converte o frame para escala de cinza\n",
    "    gray = cv2.cvtColor(frame, cv2.COLOR_BGR2GRAY)\n",
    "    faces = face_cascade.detectMultiScale(cv2.cvtColor(frame, cv2.COLOR_BGR2GRAY), scaleFactor=1.1, minNeighbors=5, minSize=(30, 30))\n",
    "\n",
    "\n",
    "\n",
    "    # Padronização do frame\n",
    "    gray=(gray-gray.mean())/gray.mean()\n",
    "    gray=cv2.resize(gray, (32, 32))\n",
    "    if(len(faces)>0):\n",
    "      Frames_False.append(gray)\n"
   ]
  },
  {
   "cell_type": "code",
   "execution_count": null,
   "metadata": {
    "id": "o4SLA9tWAcSf"
   },
   "outputs": [],
   "source": [
    "import matplotlib.pyplot as plt\n",
    "import numpy as np\n",
    "import pandas as pd\n",
    "from sklearn.model_selection import train_test_split\n",
    "#Gera a lista das variáveis independentes e o target\n",
    "X=[]\n",
    "Y=[]\n",
    "for i in range(len(Frames_True)):\n",
    "  X.append(Frames_True[i])\n",
    "  Y.append(1)\n",
    "for i in range(len(Frames_False)):\n",
    "  X.append(Frames_False[i])\n",
    "  Y.append(0)\n",
    "X,Y=np.array(X),np.array(Y)\n",
    "\n",
    "Y = to_categorical(Y, num_classes=2) # Tranforma o Target em categórica\n",
    "\n",
    "X_train, X_test, y_train, y_test = train_test_split( X,Y, test_size=0.2, random_state=42) # Sepera em base teste e treinamento\n",
    "\n",
    "# Garantindo que Estejam no formato de arrays\n",
    "X_train = np.array( X_train)\n",
    "X_test = np.array( X_test)\n",
    "X_train = X_train.astype(np.float32)\n",
    "X_test = X_test.astype(np.float32)\n",
    "\n",
    "# Transformando em tensores para ser utilizável para a rede\n",
    "X_train = tf.convert_to_tensor(X_train, dtype=tf.float32) # Usado float32 no ligar de int8  por conta da padronização\n",
    "X_test = tf.convert_to_tensor(X_test, dtype=tf.float32)\n",
    "y_train = tf.convert_to_tensor(y_train, dtype=tf.int32)\n",
    "y_test = tf.convert_to_tensor(y_test, dtype=tf.int32)"
   ]
  },
  {
   "cell_type": "markdown",
   "metadata": {
    "id": "d_5nLd2JqfJ8"
   },
   "source": [
    "### 4.2 Treinamento de modelo de liveness (1,5 pontos)"
   ]
  },
  {
   "cell_type": "code",
   "execution_count": null,
   "metadata": {
    "id": "Rz436wzoqfJ9"
   },
   "outputs": [],
   "source": [
    "# Arquitetura, utilizei a mesma de uns dos exemplos fornecidos\n",
    "\n",
    "class LivenessNet:\n",
    "\t@staticmethod\n",
    "\tdef build(width, height, depth, classes):\n",
    "\t\t# initialize the model along with the input shape to be\n",
    "\t\t# \"channels last\" and the channels dimension itself\n",
    "\t\tmodel = Sequential()\n",
    "\t\tinputShape = (height, width, depth)\n",
    "\t\tprint(inputShape)\n",
    "\t\tchanDim = -1\n",
    "\t\t# if we are using \"channels first\", update the input shape\n",
    "\t\t# and channels dimension\n",
    "\t\tif K.image_data_format() == \"channels_first\":\n",
    "\t\t\tinputShape = (depth, height, width)\n",
    "\t\t\tchanDim = 1\n",
    "      # first CONV => RELU => CONV => RELU => POOL layer set\n",
    "\t\tmodel.add(Conv2D(16, (3, 3), padding=\"same\",\n",
    "\t\t\tinput_shape=inputShape))\n",
    "\t\tmodel.add(Activation(\"relu\"))\n",
    "\t\tmodel.add(BatchNormalization(axis=chanDim))\n",
    "\t\tmodel.add(Conv2D(16, (3, 3), padding=\"same\"))\n",
    "\t\tmodel.add(Activation(\"relu\"))\n",
    "\t\tmodel.add(BatchNormalization(axis=chanDim))\n",
    "\t\tmodel.add(MaxPooling2D(pool_size=(2, 2)))\n",
    "\t\tmodel.add(Dropout(0.25))\n",
    "\t\t# second CONV => RELU => CONV => RELU => POOL layer set\n",
    "\t\tmodel.add(Conv2D(32, (3, 3), padding=\"same\"))\n",
    "\t\tmodel.add(Activation(\"relu\"))\n",
    "\t\tmodel.add(BatchNormalization(axis=chanDim))\n",
    "\t\tmodel.add(Conv2D(32, (3, 3), padding=\"same\"))\n",
    "\t\tmodel.add(Activation(\"relu\"))\n",
    "\t\tmodel.add(BatchNormalization(axis=chanDim))\n",
    "\t\tmodel.add(MaxPooling2D(pool_size=(2, 2)))\n",
    "\t\tmodel.add(Dropout(0.25))\n",
    "  # first (and only) set of FC => RELU layers\n",
    "\t\tmodel.add(Flatten())\n",
    "\t\tmodel.add(Dense(64))\n",
    "\t\tmodel.add(Activation(\"relu\"))\n",
    "\t\tmodel.add(BatchNormalization())\n",
    "\t\tmodel.add(Dropout(0.5))\n",
    "\t\t# softmax classifier\n",
    "\t\tmodel.add(Dense(classes))\n",
    "\t\tmodel.add(Activation(\"softmax\"))\n",
    "\t\t# return the constructed network architecture\n",
    "\t\treturn model"
   ]
  },
  {
   "cell_type": "code",
   "execution_count": null,
   "metadata": {
    "id": "ER6Mf_DAcNXl"
   },
   "outputs": [],
   "source": [
    "\n",
    "INIT_LR = 1e-4\n",
    "BS = 8\n",
    "EPOCHS = 18"
   ]
  },
  {
   "cell_type": "code",
   "execution_count": null,
   "metadata": {
    "colab": {
     "base_uri": "https://localhost:8080/"
    },
    "id": "SOkN-SPIcOuU",
    "outputId": "88bd14c1-c0d6-4438-f0cf-54e6a9de67ff"
   },
   "outputs": [
    {
     "name": "stdout",
     "output_type": "stream",
     "text": [
      "(32, 32, 1)\n",
      "[INFO] training network for 18 epochs...\n",
      "Epoch 1/18\n",
      "194/194 [==============================] - 13s 40ms/step - loss: 0.3573 - accuracy: 0.8892 - val_loss: 0.6467 - val_accuracy: 0.5205\n",
      "Epoch 2/18\n",
      "194/194 [==============================] - 7s 38ms/step - loss: 0.1247 - accuracy: 0.9806 - val_loss: 0.0954 - val_accuracy: 1.0000\n",
      "Epoch 3/18\n",
      "194/194 [==============================] - 7s 36ms/step - loss: 0.0755 - accuracy: 0.9858 - val_loss: 0.0129 - val_accuracy: 1.0000\n",
      "Epoch 4/18\n",
      "194/194 [==============================] - 6s 31ms/step - loss: 0.0589 - accuracy: 0.9929 - val_loss: 0.0066 - val_accuracy: 1.0000\n",
      "Epoch 5/18\n",
      "194/194 [==============================] - 7s 35ms/step - loss: 0.0558 - accuracy: 0.9910 - val_loss: 0.0044 - val_accuracy: 1.0000\n",
      "Epoch 6/18\n",
      "194/194 [==============================] - 6s 31ms/step - loss: 0.0424 - accuracy: 0.9929 - val_loss: 0.0035 - val_accuracy: 1.0000\n",
      "Epoch 7/18\n",
      "194/194 [==============================] - 7s 36ms/step - loss: 0.0460 - accuracy: 0.9923 - val_loss: 0.0029 - val_accuracy: 1.0000\n",
      "Epoch 8/18\n",
      "194/194 [==============================] - 6s 31ms/step - loss: 0.0271 - accuracy: 0.9942 - val_loss: 0.0027 - val_accuracy: 1.0000\n",
      "Epoch 9/18\n",
      "194/194 [==============================] - 7s 35ms/step - loss: 0.0249 - accuracy: 0.9981 - val_loss: 0.0021 - val_accuracy: 1.0000\n",
      "Epoch 10/18\n",
      "194/194 [==============================] - 6s 31ms/step - loss: 0.0319 - accuracy: 0.9955 - val_loss: 0.0017 - val_accuracy: 1.0000\n",
      "Epoch 11/18\n",
      "194/194 [==============================] - 8s 43ms/step - loss: 0.0175 - accuracy: 0.9994 - val_loss: 0.0014 - val_accuracy: 1.0000\n",
      "Epoch 12/18\n",
      "194/194 [==============================] - 6s 31ms/step - loss: 0.0249 - accuracy: 0.9948 - val_loss: 0.0011 - val_accuracy: 1.0000\n",
      "Epoch 13/18\n",
      "194/194 [==============================] - 7s 35ms/step - loss: 0.0243 - accuracy: 0.9961 - val_loss: 0.0012 - val_accuracy: 1.0000\n",
      "Epoch 14/18\n",
      "194/194 [==============================] - 6s 32ms/step - loss: 0.0217 - accuracy: 0.9968 - val_loss: 8.7899e-04 - val_accuracy: 1.0000\n",
      "Epoch 15/18\n",
      "194/194 [==============================] - 7s 38ms/step - loss: 0.0314 - accuracy: 0.9910 - val_loss: 7.7129e-04 - val_accuracy: 1.0000\n",
      "Epoch 16/18\n",
      "194/194 [==============================] - 6s 31ms/step - loss: 0.0230 - accuracy: 0.9961 - val_loss: 7.4255e-04 - val_accuracy: 1.0000\n",
      "Epoch 17/18\n",
      "194/194 [==============================] - 7s 38ms/step - loss: 0.0290 - accuracy: 0.9955 - val_loss: 7.0317e-04 - val_accuracy: 1.0000\n",
      "Epoch 18/18\n",
      "194/194 [==============================] - 6s 32ms/step - loss: 0.0223 - accuracy: 0.9974 - val_loss: 5.7637e-04 - val_accuracy: 1.0000\n"
     ]
    }
   ],
   "source": [
    "\n",
    "opt = Adam(learning_rate=INIT_LR)\n",
    "model = LivenessNet.build(width=32, height=32, depth=1,\n",
    "\tclasses=2)\n",
    "model.compile(loss=\"binary_crossentropy\", optimizer=opt,\n",
    "\tmetrics=[\"accuracy\"])\n",
    "# train the network\n",
    "print(\"[INFO] training network for {} epochs...\".format(EPOCHS))\n",
    "H = model.fit(X_train, y_train, batch_size=BS,\n",
    "\tvalidation_data=(X_test, y_test), steps_per_epoch=len(X_train) // BS,\n",
    "\tepochs=EPOCHS)"
   ]
  },
  {
   "cell_type": "markdown",
   "metadata": {
    "id": "ASEfaXi5qfJ9"
   },
   "source": [
    "### 4.3 Métricas de desempenho do modelo (2 pontos)"
   ]
  },
  {
   "cell_type": "code",
   "execution_count": null,
   "metadata": {
    "colab": {
     "base_uri": "https://localhost:8080/",
     "height": 668
    },
    "id": "WZw9TxmxqfJ9",
    "outputId": "8008f4d6-3911-43a1-808c-ad8dea328777"
   },
   "outputs": [
    {
     "name": "stdout",
     "output_type": "stream",
     "text": [
      "[INFO] evaluating network...\n",
      "49/49 [==============================] - 1s 8ms/step\n",
      "              precision    recall  f1-score   support\n",
      "\n",
      "           0       1.00      1.00      1.00       187\n",
      "           1       1.00      1.00      1.00       203\n",
      "\n",
      "    accuracy                           1.00       390\n",
      "   macro avg       1.00      1.00      1.00       390\n",
      "weighted avg       1.00      1.00      1.00       390\n",
      "\n"
     ]
    },
    {
     "data": {
      "image/png": "[encoded data removed]",
      "text/plain": [
       "<Figure size 640x480 with 1 Axes>"
      ]
     },
     "metadata": {},
     "output_type": "display_data"
    }
   ],
   "source": [
    "predictions = model.predict(x=X_test, batch_size=BS)\n",
    "\n",
    "\n",
    "plt.style.use(\"ggplot\")\n",
    "plt.figure()\n",
    "plt.plot(np.arange(0, EPOCHS), H.history[\"loss\"], label=\"train_loss\")\n",
    "plt.plot(np.arange(0, EPOCHS), H.history[\"val_loss\"], label=\"val_loss\")\n",
    "plt.plot(np.arange(0, EPOCHS), H.history[\"accuracy\"], label=\"train_acc\")\n",
    "plt.plot(np.arange(0, EPOCHS), H.history[\"val_accuracy\"], label=\"val_acc\")\n",
    "plt.title(\"Training Loss and Accuracy on Dataset\")\n",
    "plt.xlabel(\"Epoch #\")\n",
    "plt.ylabel(\"Loss/Accuracy\")\n",
    "plt.legend(loc=\"lower left\")\n",
    "print(classification_report(y_test[:,1],\n",
    "\tpredictions.argmax(axis=1)))"
   ]
  },
  {
   "cell_type": "markdown",
   "metadata": {
    "id": "ASEYVY0xqfJ-"
   },
   "source": [
    "## 5 Teste Fim-a-Fim\n",
    "\n",
    "Simule a operação fim-a-fim, com uma imagem de entrada forjada (foto de foto de um rosto) e outra com uma imagem de rosto, exibindo o resultado da classificação e a pontuação de cada classe."
   ]
  },
  {
   "cell_type": "code",
   "execution_count": null,
   "metadata": {
    "id": "DfRnxTzDqfJ-"
   },
   "outputs": [],
   "source": [
    "# Caminho para o vídeo contendo uma gravação falsa da imagens verdadeiras de treinamento\n",
    "video_path = 'imagens\\Teste.mp4'\n",
    "\n",
    "# Inicializa o objeto de captura de vídeo\n",
    "cap = cv2.VideoCapture(video_path)\n",
    "X_teste=[]\n",
    "while True:\n",
    "\n",
    "\n",
    "    # Lê um frame do vídeo\n",
    "    ret, frame = cap.read()\n",
    "    # Verifica se a leitura do frame foi bem sucedida\n",
    "    if not ret:\n",
    "        break\n",
    "\n",
    "    # Converte o frame para escala de cinza\n",
    "    gray = cv2.cvtColor(frame, cv2.COLOR_BGR2GRAY)\n",
    "\n",
    "\n",
    "\n",
    "    gray=(gray-gray.mean())/gray.mean()\n",
    "    gray=cv2.resize(gray, (32, 32))\n",
    "\n",
    "    X_teste.append(gray)\n",
    "\n",
    "X_teste=np.array(X_teste)\n",
    "\n",
    "X_teste = X_teste.astype(np.float32)\n",
    "X_teste = tf.convert_to_tensor(X_teste, dtype=tf.float32)\n"
   ]
  },
  {
   "cell_type": "code",
   "execution_count": null,
   "metadata": {
    "colab": {
     "base_uri": "https://localhost:8080/"
    },
    "id": "FCQ8MZDNsf55",
    "outputId": "e92c47cc-577b-471b-8b77-6550305dd298"
   },
   "outputs": [
    {
     "name": "stdout",
     "output_type": "stream",
     "text": [
      "56/56 [==============================] - 1s 9ms/step\n"
     ]
    },
    {
     "data": {
      "text/plain": [
       "0.8392857142857143"
      ]
     },
     "execution_count": 51,
     "metadata": {},
     "output_type": "execute_result"
    }
   ],
   "source": [
    "predictions = model.predict(x=X_teste, batch_size=BS)\n",
    "np.mean(predictions[:,1]<0.5) # percetual de acerto de que o video era falso"
   ]
  },
  {
   "cell_type": "code",
   "execution_count": null,
   "metadata": {
    "colab": {
     "base_uri": "https://localhost:8080/",
     "height": 406
    },
    "id": "Ty2eD-5Xn_5g",
    "outputId": "4abb2640-8fda-4dff-a7da-013c2b311f02"
   },
   "outputs": [
    {
     "data": {
      "image/png": "[encoded data removed]",
      "text/plain": [
       "<Figure size 640x480 with 1 Axes>"
      ]
     },
     "metadata": {},
     "output_type": "display_data"
    }
   ],
   "source": [
    "img = cv2.imread(\"imagens/todo teste.PNG\") # foto tirada de reportagem https://www.rauldespachante.com.br/possivel-renovar-cnh-morando-exterior/\n",
    "gray = cv2.cvtColor(img, cv2.COLOR_BGR2GRAY)\n",
    "gray=(gray-gray.mean())/gray.mean()\n",
    "gray=cv2.resize(gray, (32, 32))\n",
    "teste=np.array([gray])\n",
    "\n",
    "\n",
    "teste = teste.astype(np.float32)\n",
    "teste = tf.convert_to_tensor(teste, dtype=tf.float32)\n",
    "plt.imshow(gray, cmap='gray')\n",
    "\n",
    "plt.axis('off')\n",
    "plt.show()"
   ]
  },
  {
   "cell_type": "code",
   "execution_count": null,
   "metadata": {
    "colab": {
     "base_uri": "https://localhost:8080/"
    },
    "id": "lnZSwuKYoB8X",
    "outputId": "42b88c5a-300f-448f-aefd-c3ca28709465"
   },
   "outputs": [
    {
     "name": "stdout",
     "output_type": "stream",
     "text": [
      "1/1 [==============================] - 0s 52ms/step\n",
      "chance de ser falsa:  0.98589724\n"
     ]
    }
   ],
   "source": [
    "teste = model.predict(x=teste, batch_size=BS)\n",
    "print('chance de ser falsa: ',teste[0][0])"
   ]
  },
  {
   "cell_type": "markdown",
   "metadata": {
    "id": "IzMn-ASqqfJ_"
   },
   "source": [
    ">Com a implementação da solução na forma de uma aplicação do [Streamlit](https://www.streamlit.io/) (veja a pata streamlit-app e use o template) vale 1 ponto adicional."
   ]
  },
  {
   "cell_type": "markdown",
   "metadata": {
    "id": "0MQjwj_JqfJ_"
   },
   "source": [
    "**Pergunta**: Se utilizou o Streamlit, compartilhe a URL do aplicativo publicado:"
   ]
  },
  {
   "cell_type": "markdown",
   "metadata": {
    "id": "8L4W2yaKqfJ_"
   },
   "source": [
    "**Resposta**:"
   ]
  },
  {
   "cell_type": "markdown",
   "metadata": {
    "id": "32HosSyuqfJ_"
   },
   "source": [
    "## 6 Conclusões (2,5 pontos)\n",
    "\n",
    "**Pergunta**: Dado todo o estudo e pesquisa, quais foram as conclusões sobre a solução, o que funcionou, o que não funcionou e quais os detalhes que observariam numa nova versão e melhorias do processo?"
   ]
  },
  {
   "cell_type": "markdown",
   "metadata": {
    "id": "xJ8Q61QKqfJ_"
   },
   "source": [
    "**Resposta**:\n",
    "\n",
    "\n",
    " A solução apresentou uma Boa  perfonmance na base de teste, porém quando coloquei novas imagens que foram salsificações da verdaderira, apresentou uma acertividade de 83% de acerto nas imagens, mostrando uma pequena queda na performance, isso mostra que o modelo precisa ser mais genérico. Para uma imgem falsa de um rosto diferente, apresentou uma boa probabilidade que ela é falsa.\n",
    "\n",
    " Porém em modelos de deep learning o dataset deve ser grande e diverso, para que não se gere uma especialidade, principalmente quando se trata de reconhecimento facial.\n",
    "\n",
    " Próximos passos para o modelo ser mais gerenalista será, colher mais rostos diferentes, e validar fotos falsas de fotos que não estavam no treinamento. Assim poderia assegurar de que o modelo funcione para várias etnias. Além disso deve-se Testar outras resoluções para treinamento e ajustar hiperparametros."
   ]
  }
 ],
 "metadata": {
  "colab": {
   "provenance": []
  },
  "kernelspec": {
   "display_name": "Python 3 (ipykernel)",
   "language": "python",
   "name": "python3"
  },
  "language_info": {
   "codemirror_mode": {
    "name": "ipython",
    "version": 3
   },
   "file_extension": ".py",
   "mimetype": "text/x-python",
   "name": "python",
   "nbconvert_exporter": "python",
   "pygments_lexer": "ipython3",
   "version": "3.10.9"
  },
  "vscode": {
   "interpreter": {
    "hash": "733a071da2455ea0e8bdf5409a7097e630ac701195faf55c6e985d77ee3ec176"
   }
  }
 },
 "nbformat": 4,
 "nbformat_minor": 1
}
